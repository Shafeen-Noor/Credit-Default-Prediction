{
 "cells": [
  {
   "cell_type": "code",
   "execution_count": 4,
   "id": "661e14c5",
   "metadata": {},
   "outputs": [],
   "source": [
    "import pandas as pd\n",
    "from sklearn.model_selection import train_test_split, cross_val_score\n",
    "from sklearn.preprocessing import OneHotEncoder, MinMaxScaler\n",
    "from sklearn.metrics import accuracy_score, precision_score, recall_score, f1_score\n",
    "from sklearn.tree import DecisionTreeClassifier\n",
    "from sklearn.ensemble import RandomForestClassifier, GradientBoostingClassifier, AdaBoostClassifier\n",
    "from sklearn.naive_bayes import GaussianNB\n",
    "from sklearn.neighbors import KNeighborsClassifier\n",
    "from xgboost import XGBClassifier\n",
    "from sklearn.ensemble import ExtraTreesClassifier\n",
    "from sklearn.preprocessing import StandardScaler\n",
    "from sklearn.linear_model import SGDClassifier\n",
    "from sklearn.svm import LinearSVC\n",
    "from sklearn.gaussian_process import GaussianProcessClassifier\n",
    "\n"
   ]
  },
  {
   "cell_type": "code",
   "execution_count": 5,
   "id": "3ac77d3e",
   "metadata": {},
   "outputs": [],
   "source": [
    "\n",
    "# Read the CSV file\n",
    "df = pd.read_csv('CCP.csv')"
   ]
  },
  {
   "cell_type": "code",
   "execution_count": 6,
   "id": "a9b4ad7f",
   "metadata": {},
   "outputs": [],
   "source": [
    "# Preprocess the data\n",
    "cat_col = ['EDUCATION', 'MARRIAGE', 'SEX']\n",
    "num_col = ['LIMIT_BAL', 'AGE', 'PAY_0', 'PAY_2', 'PAY_3', 'PAY_4', 'PAY_5', 'PAY_6',\n",
    "           'BILL_AMT1', 'BILL_AMT2', 'BILL_AMT3', 'BILL_AMT4', 'BILL_AMT5', 'BILL_AMT6',\n",
    "           'PAY_AMT1', 'PAY_AMT2', 'PAY_AMT3', 'PAY_AMT4', 'PAY_AMT5', 'PAY_AMT6']\n",
    "\n",
    "input_col = cat_col + num_col\n",
    "target_col = ['default ']\n",
    "\n",
    "scaler = MinMaxScaler()\n",
    "df[num_col] = scaler.fit_transform(df[num_col])\n",
    "\n",
    "encoder = OneHotEncoder(handle_unknown='ignore', sparse=False)\n",
    "encoded_cols = list(encoder.fit(df[cat_col]).get_feature_names_out(cat_col))\n",
    "df[encoded_cols] = encoder.transform(df[cat_col])\n",
    "\n",
    "X = df[encoded_cols + num_col]\n",
    "y = df[target_col].replace({'Y': 1, 'N': 0}).astype(int).values.ravel()\n",
    "\n",
    "scaler = StandardScaler()\n",
    "X_scaled = scaler.fit_transform(X)"
   ]
  },
  {
   "cell_type": "code",
   "execution_count": 7,
   "id": "2f59150d",
   "metadata": {},
   "outputs": [],
   "source": [
    "\n",
    "# Evaluation Measures\n",
    "evaluation_measures = ['accuracy', 'precision', 'recall', 'f1']\n"
   ]
  },
  {
   "cell_type": "code",
   "execution_count": 8,
   "id": "099cc944",
   "metadata": {},
   "outputs": [],
   "source": [
    "\n",
    "# Machine Learning Algorithms\n",
    "models = {\n",
    "    'Decision Tree': DecisionTreeClassifier(),\n",
    "    'Random Forest': RandomForestClassifier(random_state=42),\n",
    "    'Gradient Boosting': GradientBoostingClassifier(),\n",
    "    'Gaussian Naive Bayes': GaussianNB(),\n",
    "    'K-Nearest Neighbors': KNeighborsClassifier(),\n",
    "    'Support Vector Machines': SVC(),\n",
    "    'AdaBoost': AdaBoostClassifier(),\n",
    "    'Neural Network': MLPClassifier(),\n",
    "    'Extra Trees Classifier': ExtraTreesClassifier(),\n",
    "    'XGB Classifier': XGBClassifier()\n",
    "}\n"
   ]
  },
  {
   "cell_type": "code",
   "execution_count": 9,
   "id": "368bbe8f",
   "metadata": {},
   "outputs": [
    {
     "name": "stdout",
     "output_type": "stream",
     "text": [
      "DONE\n"
     ]
    }
   ],
   "source": [
    "\n",
    "# Train-Test Split Evaluation\n",
    "X_train, X_test, y_train, y_test = train_test_split(X, y, test_size=0.2, random_state=42)\n",
    "\n",
    "results_train_test = {}\n",
    "for model_name, model in models.items():\n",
    "    model.fit(X_train, y_train)\n",
    "    y_pred = model.predict(X_test)\n",
    "    \n",
    "    metrics = {}\n",
    "    for measure in evaluation_measures:\n",
    "        if measure == 'accuracy':\n",
    "            metrics[measure] = accuracy_score(y_test, y_pred)\n",
    "        elif measure == 'precision':\n",
    "            metrics[measure] = precision_score(y_test, y_pred)\n",
    "        elif measure == 'recall':\n",
    "            metrics[measure] = recall_score(y_test, y_pred)\n",
    "        elif measure == 'f1':\n",
    "            metrics[measure] = f1_score(y_test, y_pred)\n",
    "    print(\"DONE\")\n",
    "    results_train_test[model_name] = metrics"
   ]
  },
  {
   "cell_type": "code",
   "execution_count": 10,
   "id": "54f809ec",
   "metadata": {},
   "outputs": [],
   "source": [
    "# 10-Fold Cross-Validation Evaluation\n",
    "results_cross_val = {}\n",
    "for model_name, model in models.items():\n",
    "    scores = cross_val_score(model, X, y, cv=10, scoring='accuracy')\n",
    "    results_cross_val[model_name] = scores.mean()"
   ]
  },
  {
   "cell_type": "code",
   "execution_count": 11,
   "id": "de96a9ba",
   "metadata": {},
   "outputs": [
    {
     "name": "stdout",
     "output_type": "stream",
     "text": [
      "Train-Test Split Evaluation:\n",
      "Metrics for Gradient Boosting:\n",
      "accuracy: 0.8203\n",
      "precision: 0.6667\n",
      "recall: 0.3580\n",
      "f1: 0.4658\n",
      "\n",
      "\n",
      "10-Fold Cross-Validation Evaluation:\n",
      "Gradient Boosting: 0.8212\n"
     ]
    }
   ],
   "source": [
    "# Print the results\n",
    "print(\"Train-Test Split Evaluation:\")\n",
    "for model_name, metrics in results_train_test.items():\n",
    "    print(f\"Metrics for {model_name}:\")\n",
    "    for measure, value in metrics.items():\n",
    "        print(f\"{measure}: {value:.4f}\")\n",
    "    print()\n",
    "\n",
    "print(\"\\n10-Fold Cross-Validation Evaluation:\")\n",
    "for model_name, score in results_cross_val.items():\n",
    "    print(f\"{model_name}: {score:.4f}\")"
   ]
  },
  {
   "cell_type": "code",
   "execution_count": null,
   "id": "c8027bdc",
   "metadata": {},
   "outputs": [],
   "source": []
  },
  {
   "cell_type": "code",
   "execution_count": null,
   "id": "d551c81b",
   "metadata": {},
   "outputs": [],
   "source": []
  }
 ],
 "metadata": {
  "kernelspec": {
   "display_name": "Python 3 (ipykernel)",
   "language": "python",
   "name": "python3"
  },
  "language_info": {
   "codemirror_mode": {
    "name": "ipython",
    "version": 3
   },
   "file_extension": ".py",
   "mimetype": "text/x-python",
   "name": "python",
   "nbconvert_exporter": "python",
   "pygments_lexer": "ipython3",
   "version": "3.9.13"
  }
 },
 "nbformat": 4,
 "nbformat_minor": 5
}
